{
 "cells": [
  {
   "cell_type": "code",
   "execution_count": 1,
   "metadata": {},
   "outputs": [
    {
     "name": "stderr",
     "output_type": "stream",
     "text": [
      "Using TensorFlow backend.\n",
      "In C:\\Users\\niksi\\Anaconda3\\lib\\site-packages\\matplotlib\\mpl-data\\stylelib\\_classic_test.mplstyle: \n",
      "The text.latex.preview rcparam was deprecated in Matplotlib 3.3 and will be removed two minor releases later.\n",
      "In C:\\Users\\niksi\\Anaconda3\\lib\\site-packages\\matplotlib\\mpl-data\\stylelib\\_classic_test.mplstyle: \n",
      "The mathtext.fallback_to_cm rcparam was deprecated in Matplotlib 3.3 and will be removed two minor releases later.\n",
      "In C:\\Users\\niksi\\Anaconda3\\lib\\site-packages\\matplotlib\\mpl-data\\stylelib\\_classic_test.mplstyle: Support for setting the 'mathtext.fallback_to_cm' rcParam is deprecated since 3.3 and will be removed two minor releases later; use 'mathtext.fallback : 'cm' instead.\n",
      "In C:\\Users\\niksi\\Anaconda3\\lib\\site-packages\\matplotlib\\mpl-data\\stylelib\\_classic_test.mplstyle: \n",
      "The validate_bool_maybe_none function was deprecated in Matplotlib 3.3 and will be removed two minor releases later.\n",
      "In C:\\Users\\niksi\\Anaconda3\\lib\\site-packages\\matplotlib\\mpl-data\\stylelib\\_classic_test.mplstyle: \n",
      "The savefig.jpeg_quality rcparam was deprecated in Matplotlib 3.3 and will be removed two minor releases later.\n",
      "In C:\\Users\\niksi\\Anaconda3\\lib\\site-packages\\matplotlib\\mpl-data\\stylelib\\_classic_test.mplstyle: \n",
      "The keymap.all_axes rcparam was deprecated in Matplotlib 3.3 and will be removed two minor releases later.\n",
      "In C:\\Users\\niksi\\Anaconda3\\lib\\site-packages\\matplotlib\\mpl-data\\stylelib\\_classic_test.mplstyle: \n",
      "The animation.avconv_path rcparam was deprecated in Matplotlib 3.3 and will be removed two minor releases later.\n",
      "In C:\\Users\\niksi\\Anaconda3\\lib\\site-packages\\matplotlib\\mpl-data\\stylelib\\_classic_test.mplstyle: \n",
      "The animation.avconv_args rcparam was deprecated in Matplotlib 3.3 and will be removed two minor releases later.\n"
     ]
    }
   ],
   "source": [
    "import numpy as np\n",
    "import pandas as pd\n",
    "from numpy import array\n",
    "from keras.models import Sequential\n",
    "from keras.layers import Dense\n",
    "from keras.layers import LSTM\n",
    "from keras.layers import Dropout\n",
    "from keras.layers import SimpleRNN\n",
    "from pandas import read_csv\n",
    "from pandas import DataFrame\n",
    "from pandas import concat\n",
    "from pandas import Series\n",
    "from sklearn.preprocessing import MinMaxScaler\n",
    "from sklearn.metrics import mean_squared_error\n",
    "from sklearn.metrics import mean_absolute_error\n",
    "import matplotlib.pyplot as plt\n",
    "from sklearn.model_selection import GridSearchCV, train_test_split\n",
    "from keras.preprocessing.sequence import TimeseriesGenerator\n",
    "from keras.regularizers import L1L2\n",
    "from keras.callbacks import EarlyStopping"
   ]
  },
  {
   "cell_type": "code",
   "execution_count": 2,
   "metadata": {},
   "outputs": [
    {
     "name": "stderr",
     "output_type": "stream",
     "text": [
      "b'Skipping line 46: expected 8 fields, saw 16\\nSkipping line 89: expected 8 fields, saw 16\\nSkipping line 129: expected 8 fields, saw 16\\nSkipping line 173: expected 8 fields, saw 16\\nSkipping line 215: expected 8 fields, saw 16\\nSkipping line 256: expected 8 fields, saw 16\\nSkipping line 297: expected 8 fields, saw 16\\nSkipping line 341: expected 8 fields, saw 16\\nSkipping line 386: expected 8 fields, saw 16\\nSkipping line 429: expected 8 fields, saw 16\\nSkipping line 472: expected 8 fields, saw 16\\nSkipping line 513: expected 8 fields, saw 16\\nSkipping line 554: expected 8 fields, saw 16\\nSkipping line 599: expected 8 fields, saw 16\\nSkipping line 641: expected 8 fields, saw 16\\nSkipping line 687: expected 8 fields, saw 16\\nSkipping line 731: expected 8 fields, saw 16\\nSkipping line 769: expected 8 fields, saw 16\\nSkipping line 813: expected 8 fields, saw 16\\nSkipping line 854: expected 8 fields, saw 16\\nSkipping line 898: expected 8 fields, saw 16\\nSkipping line 939: expected 8 fields, saw 16\\nSkipping line 984: expected 8 fields, saw 16\\nSkipping line 1030: expected 8 fields, saw 16\\nSkipping line 1073: expected 8 fields, saw 16\\nSkipping line 1116: expected 8 fields, saw 16\\n'\n"
     ]
    }
   ],
   "source": [
    "data = pd.read_csv('CWD09janv2.csv', error_bad_lines=False)"
   ]
  },
  {
   "cell_type": "code",
   "execution_count": 3,
   "metadata": {},
   "outputs": [
    {
     "data": {
      "text/html": [
       "<div>\n",
       "<style scoped>\n",
       "    .dataframe tbody tr th:only-of-type {\n",
       "        vertical-align: middle;\n",
       "    }\n",
       "\n",
       "    .dataframe tbody tr th {\n",
       "        vertical-align: top;\n",
       "    }\n",
       "\n",
       "    .dataframe thead th {\n",
       "        text-align: right;\n",
       "    }\n",
       "</style>\n",
       "<table border=\"1\" class=\"dataframe\">\n",
       "  <thead>\n",
       "    <tr style=\"text-align: right;\">\n",
       "      <th></th>\n",
       "      <th>kode_kab</th>\n",
       "      <th>kab/kota</th>\n",
       "      <th>Week</th>\n",
       "      <th>Date</th>\n",
       "      <th>Confirmed</th>\n",
       "      <th>Recovered</th>\n",
       "      <th>Deaths</th>\n",
       "      <th>Active</th>\n",
       "    </tr>\n",
       "  </thead>\n",
       "  <tbody>\n",
       "    <tr>\n",
       "      <th>0</th>\n",
       "      <td>3201</td>\n",
       "      <td>Kabupaten Bogor</td>\n",
       "      <td>1</td>\n",
       "      <td>14/03/20</td>\n",
       "      <td>1</td>\n",
       "      <td>0</td>\n",
       "      <td>0</td>\n",
       "      <td>1</td>\n",
       "    </tr>\n",
       "    <tr>\n",
       "      <th>1</th>\n",
       "      <td>3201</td>\n",
       "      <td>Kabupaten Bogor</td>\n",
       "      <td>2</td>\n",
       "      <td>21/03/20</td>\n",
       "      <td>5</td>\n",
       "      <td>0</td>\n",
       "      <td>0</td>\n",
       "      <td>5</td>\n",
       "    </tr>\n",
       "    <tr>\n",
       "      <th>2</th>\n",
       "      <td>3201</td>\n",
       "      <td>Kabupaten Bogor</td>\n",
       "      <td>3</td>\n",
       "      <td>28/03/20</td>\n",
       "      <td>7</td>\n",
       "      <td>1</td>\n",
       "      <td>0</td>\n",
       "      <td>6</td>\n",
       "    </tr>\n",
       "    <tr>\n",
       "      <th>3</th>\n",
       "      <td>3201</td>\n",
       "      <td>Kabupaten Bogor</td>\n",
       "      <td>4</td>\n",
       "      <td>04/04/20</td>\n",
       "      <td>27</td>\n",
       "      <td>1</td>\n",
       "      <td>1</td>\n",
       "      <td>25</td>\n",
       "    </tr>\n",
       "    <tr>\n",
       "      <th>4</th>\n",
       "      <td>3201</td>\n",
       "      <td>Kabupaten Bogor</td>\n",
       "      <td>5</td>\n",
       "      <td>11/04/20</td>\n",
       "      <td>41</td>\n",
       "      <td>2</td>\n",
       "      <td>3</td>\n",
       "      <td>36</td>\n",
       "    </tr>\n",
       "    <tr>\n",
       "      <th>...</th>\n",
       "      <td>...</td>\n",
       "      <td>...</td>\n",
       "      <td>...</td>\n",
       "      <td>...</td>\n",
       "      <td>...</td>\n",
       "      <td>...</td>\n",
       "      <td>...</td>\n",
       "      <td>...</td>\n",
       "    </tr>\n",
       "    <tr>\n",
       "      <th>1124</th>\n",
       "      <td>3279</td>\n",
       "      <td>Kota Banjar</td>\n",
       "      <td>36</td>\n",
       "      <td>12/12/20</td>\n",
       "      <td>233</td>\n",
       "      <td>166</td>\n",
       "      <td>24</td>\n",
       "      <td>43</td>\n",
       "    </tr>\n",
       "    <tr>\n",
       "      <th>1125</th>\n",
       "      <td>3279</td>\n",
       "      <td>Kota Banjar</td>\n",
       "      <td>37</td>\n",
       "      <td>19/12/20</td>\n",
       "      <td>251</td>\n",
       "      <td>187</td>\n",
       "      <td>24</td>\n",
       "      <td>40</td>\n",
       "    </tr>\n",
       "    <tr>\n",
       "      <th>1126</th>\n",
       "      <td>3279</td>\n",
       "      <td>Kota Banjar</td>\n",
       "      <td>38</td>\n",
       "      <td>26/12/20</td>\n",
       "      <td>265</td>\n",
       "      <td>206</td>\n",
       "      <td>24</td>\n",
       "      <td>35</td>\n",
       "    </tr>\n",
       "    <tr>\n",
       "      <th>1127</th>\n",
       "      <td>3279</td>\n",
       "      <td>Kota Banjar</td>\n",
       "      <td>39</td>\n",
       "      <td>02/01/21</td>\n",
       "      <td>326</td>\n",
       "      <td>227</td>\n",
       "      <td>24</td>\n",
       "      <td>75</td>\n",
       "    </tr>\n",
       "    <tr>\n",
       "      <th>1128</th>\n",
       "      <td>3279</td>\n",
       "      <td>Kota Banjar</td>\n",
       "      <td>40</td>\n",
       "      <td>09/01/21</td>\n",
       "      <td>373</td>\n",
       "      <td>254</td>\n",
       "      <td>24</td>\n",
       "      <td>95</td>\n",
       "    </tr>\n",
       "  </tbody>\n",
       "</table>\n",
       "<p>1129 rows × 8 columns</p>\n",
       "</div>"
      ],
      "text/plain": [
       "      kode_kab         kab/kota  Week      Date  Confirmed  Recovered  Deaths  \\\n",
       "0         3201  Kabupaten Bogor     1  14/03/20          1          0       0   \n",
       "1         3201  Kabupaten Bogor     2  21/03/20          5          0       0   \n",
       "2         3201  Kabupaten Bogor     3  28/03/20          7          1       0   \n",
       "3         3201  Kabupaten Bogor     4  04/04/20         27          1       1   \n",
       "4         3201  Kabupaten Bogor     5  11/04/20         41          2       3   \n",
       "...        ...              ...   ...       ...        ...        ...     ...   \n",
       "1124      3279      Kota Banjar    36  12/12/20        233        166      24   \n",
       "1125      3279      Kota Banjar    37  19/12/20        251        187      24   \n",
       "1126      3279      Kota Banjar    38  26/12/20        265        206      24   \n",
       "1127      3279      Kota Banjar    39  02/01/21        326        227      24   \n",
       "1128      3279      Kota Banjar    40  09/01/21        373        254      24   \n",
       "\n",
       "      Active  \n",
       "0          1  \n",
       "1          5  \n",
       "2          6  \n",
       "3         25  \n",
       "4         36  \n",
       "...      ...  \n",
       "1124      43  \n",
       "1125      40  \n",
       "1126      35  \n",
       "1127      75  \n",
       "1128      95  \n",
       "\n",
       "[1129 rows x 8 columns]"
      ]
     },
     "execution_count": 3,
     "metadata": {},
     "output_type": "execute_result"
    }
   ],
   "source": [
    "data"
   ]
  },
  {
   "cell_type": "code",
   "execution_count": 4,
   "metadata": {},
   "outputs": [],
   "source": [
    "Active=data[['kode_kab','kab/kota','Week','Active']]"
   ]
  },
  {
   "cell_type": "code",
   "execution_count": 5,
   "metadata": {},
   "outputs": [],
   "source": [
    "df = Active.iloc[:,3:4].astype('float32')\n",
    "df = np.reshape(df,(-1,1))"
   ]
  },
  {
   "cell_type": "code",
   "execution_count": 6,
   "metadata": {},
   "outputs": [],
   "source": [
    "df2 =np.array(df[44:86])\n",
    "df4 =np.array(df[125:168])\n",
    "df5 =np.array(df[168:209])\n",
    "df7 =np.array(df[249:289])\n",
    "df8 =np.array(df[289:332])\n",
    "df9 =np.array(df[332:376])\n",
    "df10 =np.array(df[376:418])\n",
    "df11 =np.array(df[418:460])\n",
    "df13 =np.array(df[500:540])\n",
    "df14 = np.array(df[540:584])\n",
    "df15 = np.array(df[584:625])\n",
    "df16 = np.array(df[625:670])\n",
    "df17 = np.array(df[670:713])\n",
    "df72 = np.array(df[793:833])\n",
    "df77 = np.array(df[1005:1047])\n",
    "df78 = np.array(df[1047:1089])\n",
    "df79 = np.array(df[1089:1129])\n",
    "df73 = np.array(df[833:876])"
   ]
  },
  {
   "cell_type": "code",
   "execution_count": 7,
   "metadata": {},
   "outputs": [],
   "source": [
    "#SIGMOID\n",
    "scaler2 = MinMaxScaler(feature_range=(0,1))\n",
    "scaler4 = MinMaxScaler(feature_range=(0,1))\n",
    "scaler5 = MinMaxScaler(feature_range=(0,1))\n",
    "scaler7 = MinMaxScaler(feature_range=(0,1))\n",
    "scaler8 = MinMaxScaler(feature_range=(0,1))\n",
    "scaler9 = MinMaxScaler(feature_range=(0,1))\n",
    "scaler10 = MinMaxScaler(feature_range=(0,1))\n",
    "scaler11 = MinMaxScaler(feature_range=(0,1))\n",
    "scaler13 = MinMaxScaler(feature_range=(0,1))\n",
    "scaler14 = MinMaxScaler(feature_range=(0,1))\n",
    "scaler15 = MinMaxScaler(feature_range=(0,1))\n",
    "scaler16 = MinMaxScaler(feature_range=(0,1))\n",
    "scaler17 = MinMaxScaler(feature_range=(0,1))\n",
    "scaler72 = MinMaxScaler(feature_range=(0,1))\n",
    "scaler77 = MinMaxScaler(feature_range=(0,1))\n",
    "scaler78 = MinMaxScaler(feature_range=(0,1))\n",
    "scaler79 = MinMaxScaler(feature_range=(0,1))\n",
    "scaler73 = MinMaxScaler(feature_range=(0,1))"
   ]
  },
  {
   "cell_type": "code",
   "execution_count": 8,
   "metadata": {},
   "outputs": [],
   "source": [
    "df2 = scaler2.fit_transform(df2)\n",
    "df4 = scaler4.fit_transform(df4)\n",
    "df5 = scaler5.fit_transform(df5)\n",
    "df7 = scaler7.fit_transform(df7)\n",
    "df8 = scaler8.fit_transform(df8)\n",
    "df9 = scaler9.fit_transform(df9)\n",
    "df10 = scaler10.fit_transform(df10)\n",
    "df11 = scaler11.fit_transform(df11)\n",
    "df13 = scaler13.fit_transform(df13)\n",
    "df14 = scaler14.fit_transform(df14)\n",
    "df15 = scaler15.fit_transform(df15)\n",
    "df16 = scaler16.fit_transform(df16)\n",
    "df17 = scaler17.fit_transform(df17)\n",
    "df72 = scaler72.fit_transform(df72)\n",
    "df77 = scaler77.fit_transform(df77)\n",
    "df78 = scaler78.fit_transform(df78)\n",
    "df79 = scaler79.fit_transform(df79)"
   ]
  },
  {
   "cell_type": "code",
   "execution_count": 9,
   "metadata": {},
   "outputs": [
    {
     "data": {
      "text/plain": [
       "(34, 9)"
      ]
     },
     "execution_count": 9,
     "metadata": {},
     "output_type": "execute_result"
    }
   ],
   "source": [
    "#TRAINING TESTING KOTA BANDUNG 80%\n",
    "train_size=int(len(df73)*0.80)\n",
    "test_size=len(df73)-train_size\n",
    "train_size,test_size"
   ]
  },
  {
   "cell_type": "code",
   "execution_count": 10,
   "metadata": {},
   "outputs": [],
   "source": [
    "#80%\n",
    "ts_train, ts_test = train_test_split(df73, test_size=0.2, shuffle=False)"
   ]
  },
  {
   "cell_type": "code",
   "execution_count": 11,
   "metadata": {},
   "outputs": [
    {
     "data": {
      "text/plain": [
       "(array([[  2.],\n",
       "        [  5.],\n",
       "        [ 35.],\n",
       "        [ 55.],\n",
       "        [ 92.],\n",
       "        [125.],\n",
       "        [181.],\n",
       "        [177.],\n",
       "        [184.],\n",
       "        [168.],\n",
       "        [158.],\n",
       "        [141.],\n",
       "        [138.],\n",
       "        [113.],\n",
       "        [109.],\n",
       "        [ 99.],\n",
       "        [ 55.],\n",
       "        [ 31.],\n",
       "        [ 37.],\n",
       "        [ 31.],\n",
       "        [ 49.],\n",
       "        [ 64.],\n",
       "        [ 69.],\n",
       "        [ 82.],\n",
       "        [ 90.],\n",
       "        [190.],\n",
       "        [193.],\n",
       "        [139.],\n",
       "        [158.],\n",
       "        [241.],\n",
       "        [171.],\n",
       "        [248.],\n",
       "        [228.],\n",
       "        [202.]], dtype=float32),\n",
       " array([[266.],\n",
       "        [339.],\n",
       "        [592.],\n",
       "        [707.],\n",
       "        [884.],\n",
       "        [654.],\n",
       "        [620.],\n",
       "        [582.],\n",
       "        [657.]], dtype=float32))"
      ]
     },
     "execution_count": 11,
     "metadata": {},
     "output_type": "execute_result"
    }
   ],
   "source": [
    "train,test = df73[0:train_size,:],df73[train_size:len(df73),:]\n",
    "train,test"
   ]
  },
  {
   "cell_type": "code",
   "execution_count": 12,
   "metadata": {},
   "outputs": [],
   "source": [
    "df73_train = scaler73.fit_transform(train)\n",
    "df73_test = scaler73.transform(test)"
   ]
  },
  {
   "cell_type": "code",
   "execution_count": 13,
   "metadata": {},
   "outputs": [],
   "source": [
    "def create_df(df,look_back):\n",
    "    X,y=[],[]\n",
    "    for i in range (len(df)-look_back):\n",
    "        a=df[i:(i+look_back),0]\n",
    "        X.append(a)\n",
    "        y.append(df[i+look_back,0])\n",
    "    return np.array(X),np.array(y)"
   ]
  },
  {
   "cell_type": "code",
   "execution_count": 14,
   "metadata": {},
   "outputs": [],
   "source": [
    "look_back=4"
   ]
  },
  {
   "cell_type": "code",
   "execution_count": 15,
   "metadata": {},
   "outputs": [
    {
     "data": {
      "text/plain": [
       "(array([[0.        ],\n",
       "        [0.01219512],\n",
       "        [0.13414633],\n",
       "        [0.21544716],\n",
       "        [0.36585367],\n",
       "        [0.5       ],\n",
       "        [0.72764224],\n",
       "        [0.7113821 ],\n",
       "        [0.7398374 ],\n",
       "        [0.6747967 ],\n",
       "        [0.63414633],\n",
       "        [0.56504065],\n",
       "        [0.55284554],\n",
       "        [0.4512195 ],\n",
       "        [0.43495935],\n",
       "        [0.39430892],\n",
       "        [0.21544716],\n",
       "        [0.11788618],\n",
       "        [0.1422764 ],\n",
       "        [0.11788618],\n",
       "        [0.1910569 ],\n",
       "        [0.25203252],\n",
       "        [0.27235773],\n",
       "        [0.32520324],\n",
       "        [0.35772356],\n",
       "        [0.7642276 ],\n",
       "        [0.77642274],\n",
       "        [0.5569106 ],\n",
       "        [0.63414633],\n",
       "        [0.9715447 ],\n",
       "        [0.6869919 ],\n",
       "        [1.        ],\n",
       "        [0.91869915],\n",
       "        [0.8130081 ]], dtype=float32),\n",
       " array([[1.0731707],\n",
       "        [1.3699187],\n",
       "        [2.3983738],\n",
       "        [2.8658535],\n",
       "        [3.5853658],\n",
       "        [2.6504064],\n",
       "        [2.512195 ],\n",
       "        [2.3577235],\n",
       "        [2.6626015]], dtype=float32))"
      ]
     },
     "execution_count": 15,
     "metadata": {},
     "output_type": "execute_result"
    }
   ],
   "source": [
    "df73_train,df73_test"
   ]
  },
  {
   "cell_type": "code",
   "execution_count": 16,
   "metadata": {},
   "outputs": [],
   "source": [
    "X2, y2=create_df(df2,look_back)\n",
    "X4, y4=create_df(df4,look_back)\n",
    "X5, y5=create_df(df5,look_back)\n",
    "X7, y7=create_df(df7,look_back)\n",
    "X8, y8=create_df(df8,look_back)\n",
    "X9, y9=create_df(df9,look_back)\n",
    "X10, y10=create_df(df10,look_back)\n",
    "X11, y11=create_df(df11,look_back)\n",
    "X13, y13=create_df(df13,look_back)\n",
    "X14, y14=create_df(df14,look_back)\n",
    "X15, y15=create_df(df15,look_back)\n",
    "X16, y16=create_df(df16,look_back)\n",
    "X17, y17=create_df(df17,look_back)\n",
    "X72, y72=create_df(df72,look_back)\n",
    "X77, y77=create_df(df77,look_back)\n",
    "X78, y78=create_df(df78,look_back)\n",
    "X79, y79=create_df(df79,look_back)\n",
    "\n",
    "\n",
    "#Kota Bandung\n",
    "X73_train, Y73_train=create_df(df73_train,look_back)\n",
    "X73_test, Y73_test=create_df(df73_test,look_back)"
   ]
  },
  {
   "cell_type": "code",
   "execution_count": 17,
   "metadata": {},
   "outputs": [
    {
     "data": {
      "text/plain": [
       "(array([[1.0731707, 1.3699187, 2.3983738, 2.8658535],\n",
       "        [1.3699187, 2.3983738, 2.8658535, 3.5853658],\n",
       "        [2.3983738, 2.8658535, 3.5853658, 2.6504064],\n",
       "        [2.8658535, 3.5853658, 2.6504064, 2.512195 ],\n",
       "        [3.5853658, 2.6504064, 2.512195 , 2.3577235]], dtype=float32),\n",
       " array([3.5853658, 2.6504064, 2.512195 , 2.3577235, 2.6626015],\n",
       "       dtype=float32))"
      ]
     },
     "execution_count": 17,
     "metadata": {},
     "output_type": "execute_result"
    }
   ],
   "source": [
    "X73_test, Y73_test"
   ]
  },
  {
   "cell_type": "code",
   "execution_count": 18,
   "metadata": {},
   "outputs": [],
   "source": [
    "##reshape input to be [samples, time steps, features]\n",
    "X2=np.reshape(X2,(X2.shape[0],X2.shape[1],1))\n",
    "X4=np.reshape(X4,(X4.shape[0],X4.shape[1],1))\n",
    "X5=np.reshape(X5,(X5.shape[0],X5.shape[1],1))\n",
    "X7=np.reshape(X7,(X7.shape[0],X7.shape[1],1))\n",
    "X8=np.reshape(X8,(X8.shape[0],X8.shape[1],1))\n",
    "X9=np.reshape(X9,(X9.shape[0],X9.shape[1],1))\n",
    "X10=np.reshape(X10,(X10.shape[0],X10.shape[1],1))\n",
    "X11=np.reshape(X11,(X11.shape[0],X11.shape[1],1))\n",
    "X13=np.reshape(X13,(X13.shape[0],X13.shape[1],1))\n",
    "X14=np.reshape(X14,(X14.shape[0],X14.shape[1],1))\n",
    "X15=np.reshape(X15,(X15.shape[0],X15.shape[1],1))\n",
    "X16=np.reshape(X16,(X16.shape[0],X16.shape[1],1))\n",
    "X17=np.reshape(X17,(X17.shape[0],X17.shape[1],1))\n",
    "X72=np.reshape(X72,(X72.shape[0],X72.shape[1],1))\n",
    "X77=np.reshape(X77,(X77.shape[0],X77.shape[1],1))\n",
    "X78=np.reshape(X78,(X78.shape[0],X78.shape[1],1))\n",
    "X79=np.reshape(X79,(X79.shape[0],X79.shape[1],1))\n",
    "\n",
    "\n",
    "#KOTA BANDUNG\n",
    "X73_train=np.reshape(X73_train,(X73_train.shape[0],X73_train.shape[1],1))\n",
    "X73_test=np.reshape(X73_test,(X73_test.shape[0],X73_test.shape[1],1))"
   ]
  },
  {
   "cell_type": "code",
   "execution_count": 19,
   "metadata": {},
   "outputs": [
    {
     "data": {
      "text/plain": [
       "(30, 4, 1)"
      ]
     },
     "execution_count": 19,
     "metadata": {},
     "output_type": "execute_result"
    }
   ],
   "source": [
    "X73_train.shape"
   ]
  },
  {
   "cell_type": "code",
   "execution_count": 20,
   "metadata": {},
   "outputs": [],
   "source": [
    "# define model without dense (output) activation layer (with dropout)\n",
    "model = Sequential()\n",
    "model.add(LSTM(10, input_shape=(4, 1)))\n",
    "model.add(Dense(1,activation='linear'))\n",
    "model.compile(loss='mean_squared_error',optimizer='adam')"
   ]
  },
  {
   "cell_type": "code",
   "execution_count": 21,
   "metadata": {},
   "outputs": [
    {
     "name": "stdout",
     "output_type": "stream",
     "text": [
      "WARNING:tensorflow:From C:\\Users\\niksi\\Anaconda3\\lib\\site-packages\\keras\\backend\\tensorflow_backend.py:422: The name tf.global_variables is deprecated. Please use tf.compat.v1.global_variables instead.\n",
      "\n"
     ]
    },
    {
     "data": {
      "text/plain": [
       "<keras.callbacks.callbacks.History at 0x21e6636e6c8>"
      ]
     },
     "execution_count": 21,
     "metadata": {},
     "output_type": "execute_result"
    }
   ],
   "source": [
    "# TRIAL\n",
    "# fit model\n",
    "model.fit(X2, y2, epochs=15, verbose=0, shuffle = False)\n",
    "model.fit(X4, y4, epochs=15, verbose=0, shuffle = False)\n",
    "model.fit(X5, y5, epochs=15, verbose=0, shuffle = False)\n",
    "model.fit(X7, y7, epochs=15, verbose=0, shuffle = False)\n",
    "model.fit(X8, y8, epochs=15, verbose=0, shuffle = False)\n",
    "model.fit(X9, y9, epochs=15, verbose=0, shuffle = False)\n",
    "model.fit(X10, y10, epochs=15, verbose=0, shuffle = False)\n",
    "model.fit(X11, y11, epochs=15, verbose=0, shuffle = False)\n",
    "model.fit(X13, y13, epochs=15, verbose=0, shuffle = False)\n",
    "model.fit(X14, y14, epochs=15, verbose=0, shuffle = False)\n",
    "model.fit(X15, y15, epochs=15, verbose=0, shuffle = False)\n",
    "model.fit(X16, y16, epochs=15, verbose=0, shuffle = False)\n",
    "model.fit(X17, y17, epochs=15, verbose=0, shuffle = False)\n",
    "model.fit(X72, y72, epochs=15, verbose=0, shuffle = False)\n",
    "model.fit(X77, y77, epochs=15, verbose=0, shuffle = False)\n",
    "model.fit(X78, y78, epochs=15, verbose=0, shuffle = False)\n",
    "model.fit(X79, y79, epochs=15, verbose=0, shuffle = False)"
   ]
  },
  {
   "cell_type": "code",
   "execution_count": 22,
   "metadata": {},
   "outputs": [
    {
     "name": "stdout",
     "output_type": "stream",
     "text": [
      "Train on 30 samples, validate on 5 samples\n",
      "Epoch 1/250\n",
      "30/30 [==============================] - 0s 6ms/step - loss: 0.0395 - val_loss: 2.1035\n",
      "Epoch 2/250\n",
      "30/30 [==============================] - 0s 3ms/step - loss: 0.0390 - val_loss: 1.9548\n",
      "Epoch 3/250\n",
      "30/30 [==============================] - 0s 3ms/step - loss: 0.0387 - val_loss: 1.9407\n",
      "Epoch 4/250\n",
      "30/30 [==============================] - 0s 3ms/step - loss: 0.0379 - val_loss: 1.9079\n",
      "Epoch 5/250\n",
      "30/30 [==============================] - 0s 3ms/step - loss: 0.0374 - val_loss: 1.8735\n",
      "Epoch 6/250\n",
      "30/30 [==============================] - 0s 3ms/step - loss: 0.0370 - val_loss: 1.8414\n",
      "Epoch 7/250\n",
      "30/30 [==============================] - 0s 3ms/step - loss: 0.0366 - val_loss: 1.8101\n",
      "Epoch 8/250\n",
      "30/30 [==============================] - 0s 3ms/step - loss: 0.0363 - val_loss: 1.7796\n",
      "Epoch 9/250\n",
      "30/30 [==============================] - 0s 3ms/step - loss: 0.0359 - val_loss: 1.7497\n",
      "Epoch 10/250\n",
      "30/30 [==============================] - 0s 4ms/step - loss: 0.0356 - val_loss: 1.7203\n",
      "Epoch 11/250\n",
      "30/30 [==============================] - 0s 4ms/step - loss: 0.0353 - val_loss: 1.6913\n",
      "Epoch 12/250\n",
      "30/30 [==============================] - 0s 3ms/step - loss: 0.0351 - val_loss: 1.6627\n",
      "Epoch 13/250\n",
      "30/30 [==============================] - 0s 3ms/step - loss: 0.0348 - val_loss: 1.6343\n",
      "Epoch 14/250\n",
      "30/30 [==============================] - 0s 3ms/step - loss: 0.0345 - val_loss: 1.6060\n",
      "Epoch 15/250\n",
      "30/30 [==============================] - 0s 3ms/step - loss: 0.0343 - val_loss: 1.5779\n",
      "Epoch 16/250\n",
      "30/30 [==============================] - 0s 3ms/step - loss: 0.0341 - val_loss: 1.5498\n",
      "Epoch 17/250\n",
      "30/30 [==============================] - 0s 2ms/step - loss: 0.0338 - val_loss: 1.5216\n",
      "Epoch 18/250\n",
      "30/30 [==============================] - 0s 3ms/step - loss: 0.0336 - val_loss: 1.4933\n",
      "Epoch 19/250\n",
      "30/30 [==============================] - 0s 2ms/step - loss: 0.0334 - val_loss: 1.4650\n",
      "Epoch 20/250\n",
      "30/30 [==============================] - 0s 2ms/step - loss: 0.0331 - val_loss: 1.4365\n",
      "Epoch 21/250\n",
      "30/30 [==============================] - 0s 2ms/step - loss: 0.0329 - val_loss: 1.4079\n",
      "Epoch 22/250\n",
      "30/30 [==============================] - 0s 3ms/step - loss: 0.0326 - val_loss: 1.3794\n",
      "Epoch 23/250\n",
      "30/30 [==============================] - 0s 3ms/step - loss: 0.0324 - val_loss: 1.3509\n",
      "Epoch 24/250\n",
      "30/30 [==============================] - 0s 3ms/step - loss: 0.0322 - val_loss: 1.3226\n",
      "Epoch 25/250\n",
      "30/30 [==============================] - 0s 3ms/step - loss: 0.0319 - val_loss: 1.2947\n",
      "Epoch 26/250\n",
      "30/30 [==============================] - 0s 2ms/step - loss: 0.0317 - val_loss: 1.2673\n",
      "Epoch 27/250\n",
      "30/30 [==============================] - 0s 3ms/step - loss: 0.0314 - val_loss: 1.2405\n",
      "Epoch 28/250\n",
      "30/30 [==============================] - 0s 3ms/step - loss: 0.0312 - val_loss: 1.2144\n",
      "Epoch 29/250\n",
      "30/30 [==============================] - 0s 3ms/step - loss: 0.0309 - val_loss: 1.1891\n",
      "Epoch 30/250\n",
      "30/30 [==============================] - 0s 3ms/step - loss: 0.0306 - val_loss: 1.1645\n",
      "Epoch 31/250\n",
      "30/30 [==============================] - 0s 2ms/step - loss: 0.0303 - val_loss: 1.1407\n",
      "Epoch 32/250\n",
      "30/30 [==============================] - 0s 3ms/step - loss: 0.0301 - val_loss: 1.1176\n",
      "Epoch 33/250\n",
      "30/30 [==============================] - 0s 2ms/step - loss: 0.0298 - val_loss: 1.0953\n",
      "Epoch 34/250\n",
      "30/30 [==============================] - 0s 2ms/step - loss: 0.0295 - val_loss: 1.0736\n",
      "Epoch 35/250\n",
      "30/30 [==============================] - 0s 2ms/step - loss: 0.0292 - val_loss: 1.0525\n",
      "Epoch 36/250\n",
      "30/30 [==============================] - 0s 2ms/step - loss: 0.0289 - val_loss: 1.0319\n",
      "Epoch 37/250\n",
      "30/30 [==============================] - 0s 2ms/step - loss: 0.0287 - val_loss: 1.0117\n",
      "Epoch 38/250\n",
      "30/30 [==============================] - 0s 3ms/step - loss: 0.0284 - val_loss: 0.9919\n",
      "Epoch 39/250\n",
      "30/30 [==============================] - 0s 2ms/step - loss: 0.0281 - val_loss: 0.9724\n",
      "Epoch 40/250\n",
      "30/30 [==============================] - 0s 2ms/step - loss: 0.0278 - val_loss: 0.9532\n",
      "Epoch 41/250\n",
      "30/30 [==============================] - 0s 2ms/step - loss: 0.0276 - val_loss: 0.9342\n",
      "Epoch 42/250\n",
      "30/30 [==============================] - 0s 2ms/step - loss: 0.0273 - val_loss: 0.9155\n",
      "Epoch 43/250\n",
      "30/30 [==============================] - 0s 2ms/step - loss: 0.0271 - val_loss: 0.8969\n",
      "Epoch 44/250\n",
      "30/30 [==============================] - 0s 2ms/step - loss: 0.0268 - val_loss: 0.8786\n",
      "Epoch 45/250\n",
      "30/30 [==============================] - 0s 2ms/step - loss: 0.0266 - val_loss: 0.8605\n",
      "Epoch 46/250\n",
      "30/30 [==============================] - 0s 3ms/step - loss: 0.0263 - val_loss: 0.8425\n",
      "Epoch 47/250\n",
      "30/30 [==============================] - 0s 3ms/step - loss: 0.0261 - val_loss: 0.8248\n",
      "Epoch 48/250\n",
      "30/30 [==============================] - ETA: 0s - loss: 0.017 - 0s 3ms/step - loss: 0.0259 - val_loss: 0.8073\n",
      "Epoch 49/250\n",
      "30/30 [==============================] - 0s 3ms/step - loss: 0.0256 - val_loss: 0.7900\n",
      "Epoch 50/250\n",
      "30/30 [==============================] - 0s 3ms/step - loss: 0.0254 - val_loss: 0.7730\n",
      "Epoch 51/250\n",
      "30/30 [==============================] - 0s 3ms/step - loss: 0.0252 - val_loss: 0.7562\n",
      "Epoch 52/250\n",
      "30/30 [==============================] - 0s 3ms/step - loss: 0.0250 - val_loss: 0.7397\n",
      "Epoch 53/250\n",
      "30/30 [==============================] - 0s 3ms/step - loss: 0.0248 - val_loss: 0.7236\n",
      "Epoch 54/250\n",
      "30/30 [==============================] - 0s 3ms/step - loss: 0.0246 - val_loss: 0.7078\n",
      "Epoch 55/250\n",
      "30/30 [==============================] - 0s 3ms/step - loss: 0.0244 - val_loss: 0.6923\n",
      "Epoch 56/250\n",
      "30/30 [==============================] - 0s 3ms/step - loss: 0.0242 - val_loss: 0.6772\n",
      "Epoch 57/250\n",
      "30/30 [==============================] - 0s 3ms/step - loss: 0.0240 - val_loss: 0.6624\n",
      "Epoch 58/250\n",
      "30/30 [==============================] - 0s 3ms/step - loss: 0.0239 - val_loss: 0.6480\n",
      "Epoch 59/250\n",
      "30/30 [==============================] - 0s 3ms/step - loss: 0.0237 - val_loss: 0.6340\n",
      "Epoch 60/250\n",
      "30/30 [==============================] - 0s 3ms/step - loss: 0.0235 - val_loss: 0.6204\n",
      "Epoch 61/250\n",
      "30/30 [==============================] - 0s 3ms/step - loss: 0.0234 - val_loss: 0.6072\n",
      "Epoch 62/250\n",
      "30/30 [==============================] - 0s 3ms/step - loss: 0.0232 - val_loss: 0.5945\n",
      "Epoch 63/250\n",
      "30/30 [==============================] - 0s 3ms/step - loss: 0.0231 - val_loss: 0.5821\n",
      "Epoch 64/250\n",
      "30/30 [==============================] - 0s 3ms/step - loss: 0.0229 - val_loss: 0.5702\n",
      "Epoch 65/250\n",
      "30/30 [==============================] - 0s 3ms/step - loss: 0.0228 - val_loss: 0.5586\n",
      "Epoch 66/250\n",
      "30/30 [==============================] - 0s 4ms/step - loss: 0.0226 - val_loss: 0.5475\n",
      "Epoch 67/250\n",
      "30/30 [==============================] - 0s 4ms/step - loss: 0.0225 - val_loss: 0.5368\n",
      "Epoch 68/250\n",
      "30/30 [==============================] - 0s 4ms/step - loss: 0.0224 - val_loss: 0.5266\n",
      "Epoch 69/250\n",
      "30/30 [==============================] - 0s 4ms/step - loss: 0.0222 - val_loss: 0.5167\n",
      "Epoch 70/250\n",
      "30/30 [==============================] - 0s 3ms/step - loss: 0.0221 - val_loss: 0.5072\n",
      "Epoch 71/250\n",
      "30/30 [==============================] - 0s 3ms/step - loss: 0.0220 - val_loss: 0.4981\n",
      "Epoch 72/250\n",
      "30/30 [==============================] - 0s 3ms/step - loss: 0.0218 - val_loss: 0.4894\n",
      "Epoch 73/250\n",
      "30/30 [==============================] - 0s 3ms/step - loss: 0.0217 - val_loss: 0.4811\n",
      "Epoch 74/250\n",
      "30/30 [==============================] - 0s 3ms/step - loss: 0.0216 - val_loss: 0.4732\n",
      "Epoch 75/250\n",
      "30/30 [==============================] - 0s 3ms/step - loss: 0.0215 - val_loss: 0.4656\n",
      "Epoch 76/250\n",
      "30/30 [==============================] - 0s 3ms/step - loss: 0.0214 - val_loss: 0.4584\n",
      "Epoch 77/250\n",
      "30/30 [==============================] - 0s 3ms/step - loss: 0.0213 - val_loss: 0.4515\n",
      "Epoch 78/250\n",
      "30/30 [==============================] - 0s 3ms/step - loss: 0.0212 - val_loss: 0.4450\n",
      "Epoch 79/250\n",
      "30/30 [==============================] - 0s 3ms/step - loss: 0.0211 - val_loss: 0.4388\n",
      "Epoch 80/250\n",
      "30/30 [==============================] - 0s 3ms/step - loss: 0.0210 - val_loss: 0.4328\n",
      "Epoch 81/250\n",
      "30/30 [==============================] - 0s 3ms/step - loss: 0.0209 - val_loss: 0.4272\n",
      "Epoch 82/250\n",
      "30/30 [==============================] - 0s 3ms/step - loss: 0.0208 - val_loss: 0.4219\n",
      "Epoch 83/250\n",
      "30/30 [==============================] - 0s 3ms/step - loss: 0.0207 - val_loss: 0.4169\n",
      "Epoch 84/250\n",
      "30/30 [==============================] - 0s 3ms/step - loss: 0.0206 - val_loss: 0.4121\n",
      "Epoch 85/250\n",
      "30/30 [==============================] - 0s 3ms/step - loss: 0.0205 - val_loss: 0.4076\n",
      "Epoch 86/250\n",
      "30/30 [==============================] - 0s 3ms/step - loss: 0.0204 - val_loss: 0.4033\n",
      "Epoch 87/250\n",
      "30/30 [==============================] - 0s 3ms/step - loss: 0.0204 - val_loss: 0.3993\n",
      "Epoch 88/250\n",
      "30/30 [==============================] - 0s 3ms/step - loss: 0.0203 - val_loss: 0.3955\n",
      "Epoch 89/250\n",
      "30/30 [==============================] - 0s 3ms/step - loss: 0.0202 - val_loss: 0.3919\n",
      "Epoch 90/250\n",
      "30/30 [==============================] - 0s 3ms/step - loss: 0.0201 - val_loss: 0.3885\n",
      "Epoch 91/250\n",
      "30/30 [==============================] - 0s 3ms/step - loss: 0.0201 - val_loss: 0.3853\n",
      "Epoch 92/250\n",
      "30/30 [==============================] - 0s 3ms/step - loss: 0.0200 - val_loss: 0.3823\n",
      "Epoch 93/250\n",
      "30/30 [==============================] - 0s 3ms/step - loss: 0.0199 - val_loss: 0.3795\n",
      "Epoch 94/250\n",
      "30/30 [==============================] - 0s 3ms/step - loss: 0.0198 - val_loss: 0.3769\n",
      "Epoch 95/250\n",
      "30/30 [==============================] - 0s 3ms/step - loss: 0.0198 - val_loss: 0.3745\n",
      "Epoch 96/250\n",
      "30/30 [==============================] - 0s 3ms/step - loss: 0.0197 - val_loss: 0.3722\n",
      "Epoch 97/250\n",
      "30/30 [==============================] - 0s 3ms/step - loss: 0.0196 - val_loss: 0.3700\n",
      "Epoch 98/250\n",
      "30/30 [==============================] - 0s 3ms/step - loss: 0.0196 - val_loss: 0.3680\n",
      "Epoch 99/250\n",
      "30/30 [==============================] - 0s 3ms/step - loss: 0.0195 - val_loss: 0.3662\n",
      "Epoch 100/250\n",
      "30/30 [==============================] - 0s 3ms/step - loss: 0.0195 - val_loss: 0.3644\n",
      "Epoch 101/250\n",
      "30/30 [==============================] - 0s 3ms/step - loss: 0.0194 - val_loss: 0.3628\n",
      "Epoch 102/250\n",
      "30/30 [==============================] - 0s 3ms/step - loss: 0.0194 - val_loss: 0.3613\n",
      "Epoch 103/250\n",
      "30/30 [==============================] - 0s 3ms/step - loss: 0.0193 - val_loss: 0.3600\n",
      "Epoch 104/250\n",
      "30/30 [==============================] - 0s 3ms/step - loss: 0.0192 - val_loss: 0.3587\n",
      "Epoch 105/250\n",
      "30/30 [==============================] - 0s 3ms/step - loss: 0.0192 - val_loss: 0.3575\n",
      "Epoch 106/250\n",
      "30/30 [==============================] - 0s 3ms/step - loss: 0.0191 - val_loss: 0.3565\n",
      "Epoch 107/250\n",
      "30/30 [==============================] - 0s 3ms/step - loss: 0.0191 - val_loss: 0.3555\n",
      "Epoch 108/250\n",
      "30/30 [==============================] - 0s 3ms/step - loss: 0.0190 - val_loss: 0.3547\n",
      "Epoch 109/250\n",
      "30/30 [==============================] - 0s 3ms/step - loss: 0.0190 - val_loss: 0.3539\n",
      "Epoch 110/250\n",
      "30/30 [==============================] - 0s 3ms/step - loss: 0.0190 - val_loss: 0.3532\n",
      "Epoch 111/250\n",
      "30/30 [==============================] - 0s 3ms/step - loss: 0.0189 - val_loss: 0.3525\n",
      "Epoch 112/250\n",
      "30/30 [==============================] - 0s 3ms/step - loss: 0.0189 - val_loss: 0.3520\n",
      "Epoch 113/250\n",
      "30/30 [==============================] - 0s 3ms/step - loss: 0.0188 - val_loss: 0.3515\n",
      "Epoch 114/250\n",
      "30/30 [==============================] - 0s 3ms/step - loss: 0.0188 - val_loss: 0.3511\n",
      "Epoch 115/250\n",
      "30/30 [==============================] - 0s 3ms/step - loss: 0.0188 - val_loss: 0.3508\n",
      "Epoch 116/250\n",
      "30/30 [==============================] - 0s 3ms/step - loss: 0.0187 - val_loss: 0.3505\n",
      "Epoch 117/250\n",
      "30/30 [==============================] - 0s 3ms/step - loss: 0.0187 - val_loss: 0.3503\n",
      "Epoch 118/250\n",
      "30/30 [==============================] - 0s 3ms/step - loss: 0.0186 - val_loss: 0.3502\n",
      "Epoch 119/250\n",
      "30/30 [==============================] - 0s 3ms/step - loss: 0.0186 - val_loss: 0.3501\n",
      "Epoch 120/250\n",
      "30/30 [==============================] - 0s 3ms/step - loss: 0.0186 - val_loss: 0.3501\n",
      "Epoch 121/250\n",
      "30/30 [==============================] - 0s 3ms/step - loss: 0.0185 - val_loss: 0.3501\n",
      "Epoch 122/250\n",
      "30/30 [==============================] - 0s 3ms/step - loss: 0.0185 - val_loss: 0.3502\n",
      "Epoch 123/250\n",
      "30/30 [==============================] - 0s 3ms/step - loss: 0.0185 - val_loss: 0.3504\n",
      "Epoch 124/250\n",
      "30/30 [==============================] - 0s 4ms/step - loss: 0.0185 - val_loss: 0.3506\n",
      "Epoch 125/250\n",
      "30/30 [==============================] - 0s 3ms/step - loss: 0.0184 - val_loss: 0.3508\n",
      "Epoch 126/250\n",
      "30/30 [==============================] - 0s 3ms/step - loss: 0.0184 - val_loss: 0.3511\n",
      "Epoch 127/250\n",
      "30/30 [==============================] - 0s 3ms/step - loss: 0.0184 - val_loss: 0.3515\n",
      "Epoch 128/250\n",
      "30/30 [==============================] - 0s 3ms/step - loss: 0.0183 - val_loss: 0.3519\n",
      "Epoch 129/250\n",
      "30/30 [==============================] - 0s 3ms/step - loss: 0.0183 - val_loss: 0.3523\n",
      "Epoch 130/250\n",
      "30/30 [==============================] - 0s 3ms/step - loss: 0.0183 - val_loss: 0.3528\n"
     ]
    }
   ],
   "source": [
    "#early stop\n",
    "history = model.fit(X73_train, Y73_train, epochs=250, batch_size=1 ,validation_data=(X73_test,Y73_test),\n",
    "                    callbacks=[EarlyStopping(monitor='val_loss',patience=10)],verbose=1,shuffle=False)"
   ]
  },
  {
   "cell_type": "code",
   "execution_count": 23,
   "metadata": {},
   "outputs": [
    {
     "name": "stdout",
     "output_type": "stream",
     "text": [
      "Train Mean Absolute Error: 20.472811172157517\n",
      "Train Root Mean Squared Error: 32.17547882024706\n",
      "Test Mean Absolute Error: 95.76071649044745\n",
      "Test Root Mean Squared Error: 146.11748667992302\n"
     ]
    }
   ],
   "source": [
    "train_predict=model.predict(X73_train)\n",
    "test_predict=model.predict(X73_test)\n",
    "#invert prediction\n",
    "train_predict=scaler73.inverse_transform(train_predict)\n",
    "Y_train=scaler73.inverse_transform([Y73_train])\n",
    "test_predict=scaler73.inverse_transform(test_predict)\n",
    "Y_test=scaler73.inverse_transform([Y73_test])\n",
    "print('Train Mean Absolute Error:',\n",
    "      mean_absolute_error(Y_train[0],train_predict[:,0]))\n",
    "print('Train Root Mean Squared Error:',\n",
    "      np.sqrt(mean_squared_error(Y_train[0],train_predict[:,0])))\n",
    "print('Test Mean Absolute Error:',\n",
    "      mean_absolute_error(Y_test[0],test_predict[:,0]))\n",
    "print('Test Root Mean Squared Error:',\n",
    "      np.sqrt(mean_squared_error(Y_test[0],test_predict[:,0])))"
   ]
  },
  {
   "cell_type": "code",
   "execution_count": 24,
   "metadata": {},
   "outputs": [
    {
     "data": {
      "text/plain": [
       "(array([[569.3484 ],\n",
       "        [681.3828 ],\n",
       "        [647.11926],\n",
       "        [625.664  ],\n",
       "        [591.0141 ]], dtype=float32),\n",
       " array([[884.00001283, 653.999989  , 620.00002016, 581.99999633,\n",
       "         656.99998625]]))"
      ]
     },
     "execution_count": 24,
     "metadata": {},
     "output_type": "execute_result"
    }
   ],
   "source": [
    "test_predict, Y_test"
   ]
  },
  {
   "cell_type": "code",
   "execution_count": 25,
   "metadata": {},
   "outputs": [
    {
     "data": {
      "text/plain": [
       "(array([[ 90.96129 ],\n",
       "        [121.37136 ],\n",
       "        [144.75694 ],\n",
       "        [184.02924 ],\n",
       "        [183.35246 ],\n",
       "        [180.43587 ],\n",
       "        [164.52979 ],\n",
       "        [154.10562 ],\n",
       "        [137.37146 ],\n",
       "        [130.11504 ],\n",
       "        [112.66769 ],\n",
       "        [103.6611  ],\n",
       "        [ 94.76779 ],\n",
       "        [ 65.51783 ],\n",
       "        [ 35.049374],\n",
       "        [ 37.651512],\n",
       "        [ 52.22548 ],\n",
       "        [ 71.81934 ],\n",
       "        [ 86.744545],\n",
       "        [ 94.24165 ],\n",
       "        [ 97.906204],\n",
       "        [102.18564 ],\n",
       "        [178.14934 ],\n",
       "        [201.72084 ],\n",
       "        [165.08122 ],\n",
       "        [143.86603 ],\n",
       "        [194.95532 ],\n",
       "        [190.3306  ],\n",
       "        [218.4962  ],\n",
       "        [216.89896 ]], dtype=float32),\n",
       " array([[ 92.0000055 , 125.00000458, 180.99999725, 177.00000092,\n",
       "         184.00000916, 167.9999945 , 158.00000367, 141.00000458,\n",
       "         138.00000733, 113.00000092, 109.00000458,  98.99999908,\n",
       "          55.00000275,  31.00000092,  36.99999725,  31.00000092,\n",
       "          49.00000092,  64.00000183,  69.00000458,  82.        ,\n",
       "          90.        , 190.00000367, 193.00000092, 139.00000641,\n",
       "         158.00000367, 241.00000092, 171.00000641, 248.00000916,\n",
       "         227.99999817, 202.00000733]]))"
      ]
     },
     "execution_count": 25,
     "metadata": {},
     "output_type": "execute_result"
    }
   ],
   "source": [
    "train_predict, Y_train"
   ]
  },
  {
   "cell_type": "code",
   "execution_count": 26,
   "metadata": {},
   "outputs": [
    {
     "data": {
      "text/plain": [
       "11.228653881937884"
      ]
     },
     "execution_count": 26,
     "metadata": {},
     "output_type": "execute_result"
    }
   ],
   "source": [
    "def mean_absolute_percentage_error (Y_test,test_predict) :\n",
    "    Y_test, test_predict=np.array(Y_test),np.array(test_predict)\n",
    "    return np.mean(np.abs((Y_test-test_predict)/Y_test))*100\n",
    "mean_absolute_percentage_error (Y_test,test_predict)"
   ]
  },
  {
   "cell_type": "code",
   "execution_count": 27,
   "metadata": {},
   "outputs": [
    {
     "data": {
      "image/png": "[encoded data removed]",
      "text/plain": [
       "<Figure size 576x288 with 1 Axes>"
      ]
     },
     "metadata": {
      "needs_background": "light"
     },
     "output_type": "display_data"
    }
   ],
   "source": [
    "plt.figure(figsize=(8,4))\n",
    "plt.plot(history.history['loss'],label='Train Loss')\n",
    "plt.plot(history.history['val_loss'],label='Test Loss')\n",
    "plt.title('model.loss')\n",
    "plt.ylabel('loss')\n",
    "plt.xlabel('epochs')\n",
    "plt.legend(loc='upper right')\n",
    "plt.show();"
   ]
  },
  {
   "cell_type": "code",
   "execution_count": 28,
   "metadata": {
    "scrolled": true
   },
   "outputs": [
    {
     "data": {
      "image/png": "[encoded data removed]",
      "text/plain": [
       "<Figure size 432x288 with 1 Axes>"
      ]
     },
     "metadata": {
      "needs_background": "light"
     },
     "output_type": "display_data"
    }
   ],
   "source": [
    "# shift train predictions for plotting\n",
    "trainPredictPlot = np.empty_like(df73)\n",
    "trainPredictPlot[:, :] = np.nan\n",
    "trainPredictPlot[look_back:len(train_predict)+look_back, :] = train_predict\n",
    "\n",
    "# shift test predictions for plotting\n",
    "testPredictPlot = np.empty_like(df73)\n",
    "testPredictPlot[:, :] = np.nan\n",
    "testPredictPlot[len(train)+look_back:len(df73), :] = test_predict\n",
    "\n",
    "# plot baseline and predictions\n",
    "plt.plot(df73, label='Actual')\n",
    "plt.plot(trainPredictPlot, label='Forecast Data Training')\n",
    "plt.plot(testPredictPlot, label='Forecast Data Testing')\n",
    "plt.legend(loc='upper left', fontsize=8)\n",
    "plt.xlabel('Minggu ke-')\n",
    "plt.ylabel('Jumlah Kasus Aktif')\n",
    "plt.title('Forecast vs Actual')\n",
    "plt.show()"
   ]
  },
  {
   "cell_type": "code",
   "execution_count": 29,
   "metadata": {},
   "outputs": [
    {
     "name": "stderr",
     "output_type": "stream",
     "text": [
      "b'Skipping line 46: expected 8 fields, saw 16\\nSkipping line 89: expected 8 fields, saw 16\\nSkipping line 129: expected 8 fields, saw 16\\nSkipping line 173: expected 8 fields, saw 16\\nSkipping line 215: expected 8 fields, saw 16\\nSkipping line 256: expected 8 fields, saw 16\\nSkipping line 297: expected 8 fields, saw 16\\nSkipping line 341: expected 8 fields, saw 16\\nSkipping line 386: expected 8 fields, saw 16\\nSkipping line 429: expected 8 fields, saw 16\\nSkipping line 472: expected 8 fields, saw 16\\nSkipping line 513: expected 8 fields, saw 16\\nSkipping line 554: expected 8 fields, saw 16\\nSkipping line 599: expected 8 fields, saw 16\\nSkipping line 641: expected 8 fields, saw 16\\nSkipping line 687: expected 8 fields, saw 16\\nSkipping line 731: expected 8 fields, saw 16\\nSkipping line 769: expected 8 fields, saw 16\\nSkipping line 813: expected 8 fields, saw 16\\nSkipping line 854: expected 8 fields, saw 16\\nSkipping line 898: expected 8 fields, saw 16\\nSkipping line 939: expected 8 fields, saw 16\\nSkipping line 984: expected 8 fields, saw 16\\nSkipping line 1030: expected 8 fields, saw 16\\nSkipping line 1073: expected 8 fields, saw 16\\nSkipping line 1116: expected 8 fields, saw 16\\n'\n"
     ]
    }
   ],
   "source": [
    "#Predict Future\n",
    "data = pd.read_csv('CWD09janv2.csv',error_bad_lines=False)"
   ]
  },
  {
   "cell_type": "code",
   "execution_count": 30,
   "metadata": {},
   "outputs": [],
   "source": [
    "data = data[['Date','Active']]"
   ]
  },
  {
   "cell_type": "code",
   "execution_count": 31,
   "metadata": {},
   "outputs": [],
   "source": [
    "data = data[833:876].reset_index(drop=True) #Kota Bandung"
   ]
  },
  {
   "cell_type": "code",
   "execution_count": 32,
   "metadata": {},
   "outputs": [
    {
     "data": {
      "text/html": [
       "<div>\n",
       "<style scoped>\n",
       "    .dataframe tbody tr th:only-of-type {\n",
       "        vertical-align: middle;\n",
       "    }\n",
       "\n",
       "    .dataframe tbody tr th {\n",
       "        vertical-align: top;\n",
       "    }\n",
       "\n",
       "    .dataframe thead th {\n",
       "        text-align: right;\n",
       "    }\n",
       "</style>\n",
       "<table border=\"1\" class=\"dataframe\">\n",
       "  <thead>\n",
       "    <tr style=\"text-align: right;\">\n",
       "      <th></th>\n",
       "      <th>Date</th>\n",
       "      <th>Active</th>\n",
       "    </tr>\n",
       "  </thead>\n",
       "  <tbody>\n",
       "    <tr>\n",
       "      <th>0</th>\n",
       "      <td>21/03/20</td>\n",
       "      <td>2</td>\n",
       "    </tr>\n",
       "    <tr>\n",
       "      <th>1</th>\n",
       "      <td>28/03/20</td>\n",
       "      <td>5</td>\n",
       "    </tr>\n",
       "    <tr>\n",
       "      <th>2</th>\n",
       "      <td>04/04/20</td>\n",
       "      <td>35</td>\n",
       "    </tr>\n",
       "    <tr>\n",
       "      <th>3</th>\n",
       "      <td>11/04/20</td>\n",
       "      <td>55</td>\n",
       "    </tr>\n",
       "    <tr>\n",
       "      <th>4</th>\n",
       "      <td>18/04/20</td>\n",
       "      <td>92</td>\n",
       "    </tr>\n",
       "    <tr>\n",
       "      <th>5</th>\n",
       "      <td>25/04/20</td>\n",
       "      <td>125</td>\n",
       "    </tr>\n",
       "    <tr>\n",
       "      <th>6</th>\n",
       "      <td>02/05/20</td>\n",
       "      <td>181</td>\n",
       "    </tr>\n",
       "    <tr>\n",
       "      <th>7</th>\n",
       "      <td>09/05/20</td>\n",
       "      <td>177</td>\n",
       "    </tr>\n",
       "    <tr>\n",
       "      <th>8</th>\n",
       "      <td>16/05/20</td>\n",
       "      <td>184</td>\n",
       "    </tr>\n",
       "    <tr>\n",
       "      <th>9</th>\n",
       "      <td>23/05/20</td>\n",
       "      <td>168</td>\n",
       "    </tr>\n",
       "    <tr>\n",
       "      <th>10</th>\n",
       "      <td>30/05/20</td>\n",
       "      <td>158</td>\n",
       "    </tr>\n",
       "    <tr>\n",
       "      <th>11</th>\n",
       "      <td>06/06/20</td>\n",
       "      <td>141</td>\n",
       "    </tr>\n",
       "    <tr>\n",
       "      <th>12</th>\n",
       "      <td>13/06/20</td>\n",
       "      <td>138</td>\n",
       "    </tr>\n",
       "    <tr>\n",
       "      <th>13</th>\n",
       "      <td>20/06/20</td>\n",
       "      <td>113</td>\n",
       "    </tr>\n",
       "    <tr>\n",
       "      <th>14</th>\n",
       "      <td>27/06/20</td>\n",
       "      <td>109</td>\n",
       "    </tr>\n",
       "    <tr>\n",
       "      <th>15</th>\n",
       "      <td>04/07/20</td>\n",
       "      <td>99</td>\n",
       "    </tr>\n",
       "    <tr>\n",
       "      <th>16</th>\n",
       "      <td>11/07/20</td>\n",
       "      <td>55</td>\n",
       "    </tr>\n",
       "    <tr>\n",
       "      <th>17</th>\n",
       "      <td>18/07/20</td>\n",
       "      <td>31</td>\n",
       "    </tr>\n",
       "    <tr>\n",
       "      <th>18</th>\n",
       "      <td>25/07/20</td>\n",
       "      <td>37</td>\n",
       "    </tr>\n",
       "    <tr>\n",
       "      <th>19</th>\n",
       "      <td>01/08/20</td>\n",
       "      <td>31</td>\n",
       "    </tr>\n",
       "    <tr>\n",
       "      <th>20</th>\n",
       "      <td>08/08/20</td>\n",
       "      <td>49</td>\n",
       "    </tr>\n",
       "    <tr>\n",
       "      <th>21</th>\n",
       "      <td>15/08/20</td>\n",
       "      <td>64</td>\n",
       "    </tr>\n",
       "    <tr>\n",
       "      <th>22</th>\n",
       "      <td>22/08/20</td>\n",
       "      <td>69</td>\n",
       "    </tr>\n",
       "    <tr>\n",
       "      <th>23</th>\n",
       "      <td>29/08/20</td>\n",
       "      <td>82</td>\n",
       "    </tr>\n",
       "    <tr>\n",
       "      <th>24</th>\n",
       "      <td>05/09/20</td>\n",
       "      <td>90</td>\n",
       "    </tr>\n",
       "    <tr>\n",
       "      <th>25</th>\n",
       "      <td>12/09/20</td>\n",
       "      <td>190</td>\n",
       "    </tr>\n",
       "    <tr>\n",
       "      <th>26</th>\n",
       "      <td>19/09/20</td>\n",
       "      <td>193</td>\n",
       "    </tr>\n",
       "    <tr>\n",
       "      <th>27</th>\n",
       "      <td>26/09/20</td>\n",
       "      <td>139</td>\n",
       "    </tr>\n",
       "    <tr>\n",
       "      <th>28</th>\n",
       "      <td>03/10/20</td>\n",
       "      <td>158</td>\n",
       "    </tr>\n",
       "    <tr>\n",
       "      <th>29</th>\n",
       "      <td>10/10/20</td>\n",
       "      <td>241</td>\n",
       "    </tr>\n",
       "    <tr>\n",
       "      <th>30</th>\n",
       "      <td>17/10/20</td>\n",
       "      <td>171</td>\n",
       "    </tr>\n",
       "    <tr>\n",
       "      <th>31</th>\n",
       "      <td>24/10/20</td>\n",
       "      <td>248</td>\n",
       "    </tr>\n",
       "    <tr>\n",
       "      <th>32</th>\n",
       "      <td>31/10/20</td>\n",
       "      <td>228</td>\n",
       "    </tr>\n",
       "    <tr>\n",
       "      <th>33</th>\n",
       "      <td>07/11/20</td>\n",
       "      <td>202</td>\n",
       "    </tr>\n",
       "    <tr>\n",
       "      <th>34</th>\n",
       "      <td>14/11/20</td>\n",
       "      <td>266</td>\n",
       "    </tr>\n",
       "    <tr>\n",
       "      <th>35</th>\n",
       "      <td>21/11/20</td>\n",
       "      <td>339</td>\n",
       "    </tr>\n",
       "    <tr>\n",
       "      <th>36</th>\n",
       "      <td>28/11/20</td>\n",
       "      <td>592</td>\n",
       "    </tr>\n",
       "    <tr>\n",
       "      <th>37</th>\n",
       "      <td>05/12/20</td>\n",
       "      <td>707</td>\n",
       "    </tr>\n",
       "    <tr>\n",
       "      <th>38</th>\n",
       "      <td>12/12/20</td>\n",
       "      <td>884</td>\n",
       "    </tr>\n",
       "    <tr>\n",
       "      <th>39</th>\n",
       "      <td>19/12/20</td>\n",
       "      <td>654</td>\n",
       "    </tr>\n",
       "    <tr>\n",
       "      <th>40</th>\n",
       "      <td>26/12/20</td>\n",
       "      <td>620</td>\n",
       "    </tr>\n",
       "    <tr>\n",
       "      <th>41</th>\n",
       "      <td>02/01/21</td>\n",
       "      <td>582</td>\n",
       "    </tr>\n",
       "    <tr>\n",
       "      <th>42</th>\n",
       "      <td>09/01/21</td>\n",
       "      <td>657</td>\n",
       "    </tr>\n",
       "  </tbody>\n",
       "</table>\n",
       "</div>"
      ],
      "text/plain": [
       "        Date  Active\n",
       "0   21/03/20       2\n",
       "1   28/03/20       5\n",
       "2   04/04/20      35\n",
       "3   11/04/20      55\n",
       "4   18/04/20      92\n",
       "5   25/04/20     125\n",
       "6   02/05/20     181\n",
       "7   09/05/20     177\n",
       "8   16/05/20     184\n",
       "9   23/05/20     168\n",
       "10  30/05/20     158\n",
       "11  06/06/20     141\n",
       "12  13/06/20     138\n",
       "13  20/06/20     113\n",
       "14  27/06/20     109\n",
       "15  04/07/20      99\n",
       "16  11/07/20      55\n",
       "17  18/07/20      31\n",
       "18  25/07/20      37\n",
       "19  01/08/20      31\n",
       "20  08/08/20      49\n",
       "21  15/08/20      64\n",
       "22  22/08/20      69\n",
       "23  29/08/20      82\n",
       "24  05/09/20      90\n",
       "25  12/09/20     190\n",
       "26  19/09/20     193\n",
       "27  26/09/20     139\n",
       "28  03/10/20     158\n",
       "29  10/10/20     241\n",
       "30  17/10/20     171\n",
       "31  24/10/20     248\n",
       "32  31/10/20     228\n",
       "33  07/11/20     202\n",
       "34  14/11/20     266\n",
       "35  21/11/20     339\n",
       "36  28/11/20     592\n",
       "37  05/12/20     707\n",
       "38  12/12/20     884\n",
       "39  19/12/20     654\n",
       "40  26/12/20     620\n",
       "41  02/01/21     582\n",
       "42  09/01/21     657"
      ]
     },
     "execution_count": 32,
     "metadata": {},
     "output_type": "execute_result"
    }
   ],
   "source": [
    "data"
   ]
  },
  {
   "cell_type": "code",
   "execution_count": 33,
   "metadata": {},
   "outputs": [],
   "source": [
    "data['Date'] = pd.to_datetime(data['Date']) "
   ]
  },
  {
   "cell_type": "code",
   "execution_count": 34,
   "metadata": {},
   "outputs": [],
   "source": [
    "# 80% training\n",
    "close_data = data['Active'].values \n",
    "close_data = close_data.reshape((-1,1)) \n",
    "split = int(len(close_data)*0.80)\n",
    "close_test = close_data[split:]\n",
    "train_size=int(len(df73)*0.80) \n",
    "test_size=len(df73)-train_size \n",
    "train,test=df73[0:train_size,:],df73[train_size:len(df73),:]"
   ]
  },
  {
   "cell_type": "code",
   "execution_count": 35,
   "metadata": {},
   "outputs": [],
   "source": [
    "look_back = 4\n",
    "test_generator = TimeseriesGenerator(close_test,close_test,length=look_back,batch_size=1)\n",
    "prediction = model.predict_generator(test_generator)\n",
    "close_test = close_test.reshape((-1)) \n",
    "prediction = prediction.reshape((-1)) \n",
    "close_data = close_data.reshape((-1)) "
   ]
  },
  {
   "cell_type": "code",
   "execution_count": 36,
   "metadata": {},
   "outputs": [
    {
     "data": {
      "text/plain": [
       "array([  2,   5,  35,  55,  92, 125, 181, 177, 184, 168, 158, 141, 138,\n",
       "       113, 109,  99,  55,  31,  37,  31,  49,  64,  69,  82,  90, 190,\n",
       "       193, 139, 158, 241, 171, 248, 228, 202, 266, 339, 592, 707, 884,\n",
       "       654, 620, 582, 657], dtype=int64)"
      ]
     },
     "execution_count": 36,
     "metadata": {},
     "output_type": "execute_result"
    }
   ],
   "source": [
    "close_data"
   ]
  },
  {
   "cell_type": "code",
   "execution_count": 37,
   "metadata": {},
   "outputs": [],
   "source": [
    "def predict(num_prediction, model):\n",
    "    prediction_list = close_data[-look_back:]\n",
    "    result = []\n",
    "    for _ in range(num_prediction):\n",
    "        x = prediction_list[- look_back:]\n",
    "        x = x.reshape((1, look_back, 1))\n",
    "        out = model.predict(x)[0][0]\n",
    "        prediction_list = np.append(prediction_list, out)\n",
    "        prediction_list = prediction_list[look_back-1:]\n",
    "        result.append(prediction_list[-1])\n",
    "    return result"
   ]
  },
  {
   "cell_type": "code",
   "execution_count": 38,
   "metadata": {},
   "outputs": [],
   "source": [
    "def predict_dates(num_prediction):\n",
    "    last_date = df['Date'].values[-1]\n",
    "    prediction_dates = pd.date_range(last_date, periods=num_prediction+1).tolist()\n",
    "    return prediction_dates"
   ]
  },
  {
   "cell_type": "code",
   "execution_count": 39,
   "metadata": {},
   "outputs": [
    {
     "data": {
      "text/plain": [
       "[3.9758758544921875]"
      ]
     },
     "execution_count": 39,
     "metadata": {},
     "output_type": "execute_result"
    }
   ],
   "source": [
    "num_prediction = 1\n",
    "forecast = predict(num_prediction, model)\n",
    "forecast"
   ]
  },
  {
   "cell_type": "code",
   "execution_count": 40,
   "metadata": {},
   "outputs": [
    {
     "name": "stdout",
     "output_type": "stream",
     "text": [
      "[[980.06549664]]\n"
     ]
    }
   ],
   "source": [
    "inversed=scaler73.inverse_transform([forecast])\n",
    "print(inversed)"
   ]
  }
 ],
 "metadata": {
  "kernelspec": {
   "display_name": "Python 3",
   "language": "python",
   "name": "python3"
  },
  "language_info": {
   "codemirror_mode": {
    "name": "ipython",
    "version": 3
   },
   "file_extension": ".py",
   "mimetype": "text/x-python",
   "name": "python",
   "nbconvert_exporter": "python",
   "pygments_lexer": "ipython3",
   "version": "3.7.4"
  }
 },
 "nbformat": 4,
 "nbformat_minor": 4
}
